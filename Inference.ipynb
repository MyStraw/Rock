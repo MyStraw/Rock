{
 "cells": [
  {
   "cell_type": "code",
   "execution_count": 5,
   "id": "8cb6dd74",
   "metadata": {},
   "outputs": [],
   "source": [
    "import torch\n",
    "import timm\n",
    "import pandas as pd\n",
    "import numpy as np\n",
    "from pathlib import Path\n",
    "from PIL import Image\n",
    "from torch.utils.data import Dataset, DataLoader\n",
    "from torchvision import transforms\n",
    "\n",
    "from data_loader import build_loaders"
   ]
  },
  {
   "cell_type": "code",
   "execution_count": null,
   "id": "d990672a",
   "metadata": {},
   "outputs": [],
   "source": [
    "checkpoint_path = \"./model_weights/0423_1455_epoch=39_val_f1=0.8880.ckpt\"  # 실제 체크포인트 경로\n",
    "model_name      = \"vit_xsmall_patch16_clip_224\"\n",
    "num_classes     = 7\n",
    "img_size        = 224\n",
    "batch_size      = 64\n",
    "num_workers     = 8\n",
    "device          = torch.device(\"cuda\" if torch.cuda.is_available() else \"cpu\")"
   ]
  },
  {
   "cell_type": "code",
   "execution_count": null,
   "id": "7623693b",
   "metadata": {},
   "outputs": [],
   "source": [
    "# Data 로드\n",
    "train_loader, val_loader, le = build_loaders(\n",
    "    data_dir=\"./data/train\",\n",
    "    test_size=0.2,\n",
    "    img_size=args.img_size,\n",
    "    batch_size=args.batch_size,\n",
    "    num_workers=args.num_workers,\n",
    "    seed=args.seed,\n",
    "    mean = (0.38771973, 0.39787053, 0.40713646), # 전역분산\n",
    "    std = (0.2130759, 0.21581389, 0.22090413),\n",
    ")"
   ]
  }
 ],
 "metadata": {
  "kernelspec": {
   "display_name": ".venv",
   "language": "python",
   "name": "python3"
  },
  "language_info": {
   "codemirror_mode": {
    "name": "ipython",
    "version": 3
   },
   "file_extension": ".py",
   "mimetype": "text/x-python",
   "name": "python",
   "nbconvert_exporter": "python",
   "pygments_lexer": "ipython3",
   "version": "3.10.12"
  }
 },
 "nbformat": 4,
 "nbformat_minor": 5
}
