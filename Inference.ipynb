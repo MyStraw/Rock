{
 "cells": [
  {
   "cell_type": "code",
   "id": "8cb6dd74",
   "metadata": {
    "ExecuteTime": {
     "end_time": "2025-05-01T01:54:23.932504Z",
     "start_time": "2025-05-01T01:54:23.927204Z"
    }
   },
   "source": [
    "from pathlib import Path\n",
    "import torch\n",
    "import numpy as np\n",
    "import pandas as pd\n",
    "from tqdm.auto import tqdm\n",
    "\n",
    "from data_loader import build_loaders\n",
    "from train_ddp   import LitTimm, seed_everything\n",
    "\n",
    "IMG_SIZE = 224\n",
    "BATCH_SIZE = 512\n",
    "MODEL_NAME = \"vit_xsmall_patch16_clip_224\"\n",
    "CKPT_PATH  = Path(\"model_weights/0423_1455_epoch=39_val_f1=0.8880.ckpt\")   # ★수정★\n",
    "\n",
    "seed_everything(777)"
   ],
   "outputs": [],
   "execution_count": 2
  },
  {
   "cell_type": "code",
   "id": "d990672a",
   "metadata": {
    "ExecuteTime": {
     "end_time": "2025-05-01T01:54:51.537608Z",
     "start_time": "2025-05-01T01:54:47.987297Z"
    }
   },
   "source": [
    "_, val_loader, test_loader, le = build_loaders(\n",
    "    get_test=True,\n",
    "    data_dir=\"./data/train\",\n",
    "    test_size=0.2,\n",
    "    img_size=IMG_SIZE,\n",
    "    batch_size=BATCH_SIZE,\n",
    "    num_workers=0, # Window + 노트북 환경에서는 0으로\n",
    "    prefetch_factor=None, # Window + 노트북 환경에서는 None으로\n",
    "    seed=777,\n",
    "    mean=(0.38771973, 0.39787053, 0.40713646),\n",
    "    std =(0.2130759 , 0.21581389, 0.22090413),\n",
    ")\n",
    "\n",
    "NUM_CLASSES = len(le.classes_)\n",
    "print(\"✓ classes:\", le.classes_)"
   ],
   "outputs": [
    {
     "name": "stdout",
     "output_type": "stream",
     "text": [
      "✓ classes: ['Andesite' 'Basalt' 'Etc' 'Gneiss' 'Granite' 'Mud_Sandstone'\n",
      " 'Weathered_Rock']\n"
     ]
    }
   ],
   "execution_count": 4
  },
  {
   "cell_type": "code",
   "id": "7623693b",
   "metadata": {
    "ExecuteTime": {
     "end_time": "2025-05-01T01:55:12.682104Z",
     "start_time": "2025-05-01T01:55:12.098621Z"
    }
   },
   "source": [
    "ckpt = torch.load(CKPT_PATH, map_location=\"cpu\")\n",
    "state = ckpt[\"state_dict\"]\n",
    "\n",
    "model = LitTimm(model_name=MODEL_NAME, num_classes=NUM_CLASSES,\n",
    "                lr=1e-4, class_weights=None)          # lr/weights는 의미 X\n",
    "model.load_state_dict(ckpt[\"state_dict\"], strict=True)\n",
    "model.eval().cuda()\n",
    "print(\"✓ checkpoint loaded\")"
   ],
   "outputs": [
    {
     "name": "stdout",
     "output_type": "stream",
     "text": [
      "✓ checkpoint loaded\n"
     ]
    }
   ],
   "execution_count": 5
  },
  {
   "metadata": {
    "ExecuteTime": {
     "end_time": "2025-05-01T02:14:41.958954Z",
     "start_time": "2025-05-01T02:12:47.860402Z"
    }
   },
   "cell_type": "code",
   "source": [
    "# ====================== 4) Validation 성능 계산 ======================\n",
    "from sklearn.metrics import f1_score\n",
    "import numpy as np, torch\n",
    "from tqdm.auto import tqdm\n",
    "\n",
    "def validation(model, criterion, val_loader, device):\n",
    "    model.eval()\n",
    "    val_loss = []\n",
    "    preds, true_labels = [], []\n",
    "\n",
    "    with torch.no_grad():\n",
    "        for imgs, labels in tqdm(val_loader, desc=\"Val\"):\n",
    "            imgs = imgs.float().to(device, non_blocking=True)\n",
    "            labels = labels.to(device, non_blocking=True)\n",
    "\n",
    "            logits = model(imgs)\n",
    "            loss   = criterion(logits, labels)\n",
    "\n",
    "            preds += logits.argmax(1).cpu().numpy().tolist()\n",
    "            true_labels += labels.cpu().numpy().tolist()\n",
    "            val_loss.append(loss.item())\n",
    "\n",
    "    _val_loss  = np.mean(val_loss)\n",
    "    _val_score = f1_score(true_labels, preds, average='macro')\n",
    "    return _val_loss, _val_score\n",
    "\n",
    "\n",
    "device = torch.device(\"cuda\")\n",
    "criterion = torch.nn.CrossEntropyLoss().to(device)\n",
    "\n",
    "val_loss, val_f1 = validation(model, criterion, val_loader, device)\n",
    "print(f\"⚡ Validation  |  loss: {val_loss:.4f}  |  Macro-F1: {val_f1:.4f}\")"
   ],
   "id": "cf45839ccc54612d",
   "outputs": [
    {
     "data": {
      "text/plain": [
       "Val:   0%|          | 0/149 [00:00<?, ?it/s]"
      ],
      "application/vnd.jupyter.widget-view+json": {
       "version_major": 2,
       "version_minor": 0,
       "model_id": "4219add56b1b433f9d1bcdd59a188114"
      }
     },
     "metadata": {},
     "output_type": "display_data"
    },
    {
     "name": "stdout",
     "output_type": "stream",
     "text": [
      "⚡ Validation  |  loss: 0.0791  |  Macro-F1: 0.9698\n"
     ]
    }
   ],
   "execution_count": 10
  },
  {
   "metadata": {
    "ExecuteTime": {
     "end_time": "2025-05-01T01:57:38.207393Z",
     "start_time": "2025-05-01T01:55:26.666985Z"
    }
   },
   "cell_type": "code",
   "source": [
    "pred_labels = []\n",
    "pred_probs = []\n",
    "\n",
    "with torch.no_grad():\n",
    "    for imgs in tqdm(test_loader, desc=\"Test\"):  # imgs, _  → imgs\n",
    "        imgs = imgs.cuda(non_blocking=True)\n",
    "        logits = model(imgs)\n",
    "        probs = torch.softmax(logits, dim=1)\n",
    "        pred_labels.extend(logits.argmax(1).cpu().numpy())\n",
    "        pred_probs.extend(probs.cpu().numpy())\n",
    "\n",
    "# 숫자 → 클래스명 \n",
    "pred_classes = le.inverse_transform(np.array(pred_labels))\n",
    "pred_probs = np.array(pred_probs)\n",
    "\n",
    "submission = pd.read_csv('./data/sample_submission.csv')\n",
    "submission['rock_type'] = pred_classes"
   ],
   "id": "f0d511fff1e5f18f",
   "outputs": [
    {
     "data": {
      "text/plain": [
       "Test:   0%|          | 0/186 [00:00<?, ?it/s]"
      ],
      "application/vnd.jupyter.widget-view+json": {
       "version_major": 2,
       "version_minor": 0,
       "model_id": "ff1d34c77a6e415c9e0d8b38d23f65b2"
      }
     },
     "metadata": {},
     "output_type": "display_data"
    },
    {
     "name": "stdout",
     "output_type": "stream",
     "text": [
      "\n",
      "Prediction probabilities for first few samples:\n",
      "\n",
      "Sample 0:\n",
      "Andesite: 0.0002\n",
      "Basalt: 0.0000\n",
      "Etc: 0.0000\n",
      "Gneiss: 0.0000\n",
      "Granite: 0.0000\n",
      "Mud_Sandstone: 0.9998\n",
      "Weathered_Rock: 0.0000\n",
      "\n",
      "Sample 1:\n",
      "Andesite: 0.0013\n",
      "Basalt: 0.0099\n",
      "Etc: 0.0004\n",
      "Gneiss: 0.0001\n",
      "Granite: 0.0000\n",
      "Mud_Sandstone: 0.9882\n",
      "Weathered_Rock: 0.0000\n",
      "\n",
      "Sample 2:\n",
      "Andesite: 0.0001\n",
      "Basalt: 0.0000\n",
      "Etc: 0.0000\n",
      "Gneiss: 0.0000\n",
      "Granite: 0.0000\n",
      "Mud_Sandstone: 0.9999\n",
      "Weathered_Rock: 0.0000\n",
      "\n",
      "Sample 3:\n",
      "Andesite: 0.0000\n",
      "Basalt: 0.0000\n",
      "Etc: 0.0016\n",
      "Gneiss: 0.0000\n",
      "Granite: 0.9984\n",
      "Mud_Sandstone: 0.0000\n",
      "Weathered_Rock: 0.0000\n",
      "\n",
      "Sample 4:\n",
      "Andesite: 0.0000\n",
      "Basalt: 0.0000\n",
      "Etc: 0.0000\n",
      "Gneiss: 0.0000\n",
      "Granite: 0.9999\n",
      "Mud_Sandstone: 0.0000\n",
      "Weathered_Rock: 0.0000\n"
     ]
    }
   ],
   "execution_count": 6
  },
  {
   "metadata": {
    "ExecuteTime": {
     "end_time": "2025-05-01T01:49:20.801534Z",
     "start_time": "2025-05-01T01:49:20.762302Z"
    }
   },
   "cell_type": "code",
   "source": [
    "SUBMIT_NAME = \"./Submission/submission.csv\"\n",
    "submission.to_csv(SUBMIT_NAME, index=False)\n",
    "print(\"🎉 saved:\", SUBMIT_NAME)"
   ],
   "id": "f07ecdb12b50a59d",
   "outputs": [
    {
     "name": "stdout",
     "output_type": "stream",
     "text": [
      "🎉 saved: ./Submission/submission.csv\n"
     ]
    }
   ],
   "execution_count": 7
  },
  {
   "metadata": {
    "ExecuteTime": {
     "end_time": "2025-05-01T01:59:16.505945Z",
     "start_time": "2025-05-01T01:59:16.495083Z"
    }
   },
   "cell_type": "code",
   "source": [
    "probs = torch.softmax(logits, dim=1).cpu().numpy()\n",
    "probs"
   ],
   "id": "1339c1d711f72697",
   "outputs": [
    {
     "data": {
      "text/plain": [
       "array([[1.51008744e-05, 1.54826157e-05, 2.39382473e-07, ...,\n",
       "        2.99387084e-05, 6.71633679e-05, 4.03645208e-06],\n",
       "       [7.25029804e-06, 1.71697284e-05, 2.72593006e-05, ...,\n",
       "        1.25071565e-05, 3.11056239e-04, 4.43403860e-06],\n",
       "       [5.66039489e-07, 1.33902927e-06, 1.66006830e-05, ...,\n",
       "        2.50340581e-05, 8.90584197e-05, 1.33376557e-06],\n",
       "       ...,\n",
       "       [3.19618353e-04, 1.42469522e-04, 4.01976079e-01, ...,\n",
       "        4.17127414e-03, 1.23140035e-05, 3.67581117e-04],\n",
       "       [4.73372756e-06, 1.96558426e-06, 1.62325728e-06, ...,\n",
       "        4.18798882e-05, 1.72887048e-05, 3.18055868e-07],\n",
       "       [7.17210128e-07, 4.11534211e-06, 1.11504574e-03, ...,\n",
       "        3.98348639e-05, 4.46218677e-04, 1.13047599e-05]],\n",
       "      shape=(286, 7), dtype=float32)"
      ]
     },
     "execution_count": 9,
     "metadata": {},
     "output_type": "execute_result"
    }
   ],
   "execution_count": 9
  },
  {
   "metadata": {
    "ExecuteTime": {
     "end_time": "2025-05-01T01:49:22.612310Z",
     "start_time": "2025-05-01T01:49:22.606509Z"
    }
   },
   "cell_type": "code",
   "source": "submission",
   "id": "c4eb9f11e60c9489",
   "outputs": [
    {
     "data": {
      "text/plain": [
       "               ID      rock_type\n",
       "0      TEST_00000  Mud_Sandstone\n",
       "1      TEST_00001  Mud_Sandstone\n",
       "2      TEST_00002  Mud_Sandstone\n",
       "3      TEST_00003        Granite\n",
       "4      TEST_00004        Granite\n",
       "...           ...            ...\n",
       "95001  TEST_95001         Gneiss\n",
       "95002  TEST_95002         Gneiss\n",
       "95003  TEST_95003         Gneiss\n",
       "95004  TEST_95004         Gneiss\n",
       "95005  TEST_95005         Gneiss\n",
       "\n",
       "[95006 rows x 2 columns]"
      ],
      "text/html": [
       "<div>\n",
       "<style scoped>\n",
       "    .dataframe tbody tr th:only-of-type {\n",
       "        vertical-align: middle;\n",
       "    }\n",
       "\n",
       "    .dataframe tbody tr th {\n",
       "        vertical-align: top;\n",
       "    }\n",
       "\n",
       "    .dataframe thead th {\n",
       "        text-align: right;\n",
       "    }\n",
       "</style>\n",
       "<table border=\"1\" class=\"dataframe\">\n",
       "  <thead>\n",
       "    <tr style=\"text-align: right;\">\n",
       "      <th></th>\n",
       "      <th>ID</th>\n",
       "      <th>rock_type</th>\n",
       "    </tr>\n",
       "  </thead>\n",
       "  <tbody>\n",
       "    <tr>\n",
       "      <th>0</th>\n",
       "      <td>TEST_00000</td>\n",
       "      <td>Mud_Sandstone</td>\n",
       "    </tr>\n",
       "    <tr>\n",
       "      <th>1</th>\n",
       "      <td>TEST_00001</td>\n",
       "      <td>Mud_Sandstone</td>\n",
       "    </tr>\n",
       "    <tr>\n",
       "      <th>2</th>\n",
       "      <td>TEST_00002</td>\n",
       "      <td>Mud_Sandstone</td>\n",
       "    </tr>\n",
       "    <tr>\n",
       "      <th>3</th>\n",
       "      <td>TEST_00003</td>\n",
       "      <td>Granite</td>\n",
       "    </tr>\n",
       "    <tr>\n",
       "      <th>4</th>\n",
       "      <td>TEST_00004</td>\n",
       "      <td>Granite</td>\n",
       "    </tr>\n",
       "    <tr>\n",
       "      <th>...</th>\n",
       "      <td>...</td>\n",
       "      <td>...</td>\n",
       "    </tr>\n",
       "    <tr>\n",
       "      <th>95001</th>\n",
       "      <td>TEST_95001</td>\n",
       "      <td>Gneiss</td>\n",
       "    </tr>\n",
       "    <tr>\n",
       "      <th>95002</th>\n",
       "      <td>TEST_95002</td>\n",
       "      <td>Gneiss</td>\n",
       "    </tr>\n",
       "    <tr>\n",
       "      <th>95003</th>\n",
       "      <td>TEST_95003</td>\n",
       "      <td>Gneiss</td>\n",
       "    </tr>\n",
       "    <tr>\n",
       "      <th>95004</th>\n",
       "      <td>TEST_95004</td>\n",
       "      <td>Gneiss</td>\n",
       "    </tr>\n",
       "    <tr>\n",
       "      <th>95005</th>\n",
       "      <td>TEST_95005</td>\n",
       "      <td>Gneiss</td>\n",
       "    </tr>\n",
       "  </tbody>\n",
       "</table>\n",
       "<p>95006 rows × 2 columns</p>\n",
       "</div>"
      ]
     },
     "execution_count": 8,
     "metadata": {},
     "output_type": "execute_result"
    }
   ],
   "execution_count": 8
  },
  {
   "metadata": {},
   "cell_type": "code",
   "outputs": [],
   "execution_count": null,
   "source": "",
   "id": "5a5e70c50054ddaf"
  }
 ],
 "metadata": {
  "kernelspec": {
   "display_name": ".venv",
   "language": "python",
   "name": "python3"
  },
  "language_info": {
   "codemirror_mode": {
    "name": "ipython",
    "version": 3
   },
   "file_extension": ".py",
   "mimetype": "text/x-python",
   "name": "python",
   "nbconvert_exporter": "python",
   "pygments_lexer": "ipython3",
   "version": "3.10.12"
  }
 },
 "nbformat": 4,
 "nbformat_minor": 5
}
